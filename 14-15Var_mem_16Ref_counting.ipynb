{
 "cells": [
  {
   "cell_type": "code",
   "execution_count": 1,
   "id": "7983cd6c",
   "metadata": {},
   "outputs": [],
   "source": [
    "my_var_1 = 10"
   ]
  },
  {
   "cell_type": "markdown",
   "id": "0cf37c1e",
   "metadata": {},
   "source": [
    "### memory\n",
    "We can find the memory address by using the \n",
    "```python \n",
    "id() #function\n",
    "\n",
    "```\n",
    "and to get the base-10 to hexadecimal -->\n",
    "```python\n",
    "print(hex(id(my_var_1)))\n",
    "```"
   ]
  },
  {
   "cell_type": "code",
   "execution_count": 2,
   "id": "7957190d",
   "metadata": {},
   "outputs": [
    {
     "data": {
      "text/plain": [
       "140724327950416"
      ]
     },
     "execution_count": 2,
     "metadata": {},
     "output_type": "execute_result"
    }
   ],
   "source": [
    "id(my_var_1)"
   ]
  },
  {
   "cell_type": "code",
   "execution_count": 3,
   "id": "8c54255d",
   "metadata": {},
   "outputs": [
    {
     "data": {
      "text/plain": [
       "'0x7ffcef942850'"
      ]
     },
     "execution_count": 3,
     "metadata": {},
     "output_type": "execute_result"
    }
   ],
   "source": [
    "hex(id(my_var_1))"
   ]
  },
  {
   "cell_type": "code",
   "execution_count": 4,
   "id": "9b6a1b9b",
   "metadata": {},
   "outputs": [],
   "source": [
    "g = 'hello'"
   ]
  },
  {
   "cell_type": "code",
   "execution_count": 5,
   "id": "b9a60c71",
   "metadata": {},
   "outputs": [
    {
     "name": "stdout",
     "output_type": "stream",
     "text": [
      "hello\n"
     ]
    }
   ],
   "source": [
    "print(g)"
   ]
  },
  {
   "cell_type": "code",
   "execution_count": 6,
   "id": "a06f4925",
   "metadata": {},
   "outputs": [
    {
     "name": "stdout",
     "output_type": "stream",
     "text": [
      "1459358759664\n"
     ]
    }
   ],
   "source": [
    "print(id(g))"
   ]
  },
  {
   "cell_type": "code",
   "execution_count": 7,
   "id": "a5fb4156",
   "metadata": {},
   "outputs": [
    {
     "name": "stdout",
     "output_type": "stream",
     "text": [
      "0x153c88f7af0\n"
     ]
    }
   ],
   "source": [
    "print(hex(id(g)))"
   ]
  },
  {
   "cell_type": "code",
   "execution_count": 8,
   "id": "6f522161",
   "metadata": {},
   "outputs": [],
   "source": [
    "var1 = 10"
   ]
  },
  {
   "cell_type": "code",
   "execution_count": 9,
   "id": "da9c8f5b",
   "metadata": {},
   "outputs": [],
   "source": [
    "var2 = var1"
   ]
  },
  {
   "cell_type": "code",
   "execution_count": 10,
   "id": "bded96b0",
   "metadata": {},
   "outputs": [
    {
     "name": "stdout",
     "output_type": "stream",
     "text": [
      "140724327950416\n",
      "140724327950416\n"
     ]
    }
   ],
   "source": [
    "print(id(var1))\n",
    "print(id(var2))"
   ]
  },
  {
   "cell_type": "markdown",
   "id": "c7f7070a",
   "metadata": {},
   "source": [
    "### reference count = 2"
   ]
  },
  {
   "cell_type": "code",
   "execution_count": 11,
   "id": "91c5836e",
   "metadata": {},
   "outputs": [
    {
     "data": {
      "text/plain": [
       "214"
      ]
     },
     "execution_count": 11,
     "metadata": {},
     "output_type": "execute_result"
    }
   ],
   "source": [
    "import sys\n",
    "sys.getrefcount(var1)"
   ]
  },
  {
   "cell_type": "markdown",
   "id": "590bb2e6",
   "metadata": {},
   "source": [
    "- problem with sys.getrefcount()\n",
    "- creates an extra reference"
   ]
  },
  {
   "cell_type": "code",
   "execution_count": 12,
   "id": "410f681b",
   "metadata": {},
   "outputs": [
    {
     "data": {
      "text/plain": [
       "211"
      ]
     },
     "execution_count": 12,
     "metadata": {},
     "output_type": "execute_result"
    }
   ],
   "source": [
    "sys.getrefcount(var2)"
   ]
  },
  {
   "cell_type": "code",
   "execution_count": 13,
   "id": "f51aee69",
   "metadata": {},
   "outputs": [
    {
     "data": {
      "text/plain": [
       "210"
      ]
     },
     "execution_count": 13,
     "metadata": {},
     "output_type": "execute_result"
    }
   ],
   "source": [
    "sys.getrefcount(var2)"
   ]
  },
  {
   "cell_type": "markdown",
   "id": "ac1b335e",
   "metadata": {},
   "source": [
    "```python\n",
    "#alternative\n",
    "ctypes.c_long.from_address(address).value\n",
    "```"
   ]
  },
  {
   "cell_type": "code",
   "execution_count": 14,
   "id": "77bebc2b",
   "metadata": {},
   "outputs": [],
   "source": [
    "a = [1,2,3]"
   ]
  },
  {
   "cell_type": "code",
   "execution_count": 15,
   "id": "a68a82c1",
   "metadata": {},
   "outputs": [
    {
     "data": {
      "text/plain": [
       "1459358581120"
      ]
     },
     "execution_count": 15,
     "metadata": {},
     "output_type": "execute_result"
    }
   ],
   "source": [
    "id(a)"
   ]
  },
  {
   "cell_type": "code",
   "execution_count": 16,
   "id": "bdac81a6",
   "metadata": {},
   "outputs": [
    {
     "data": {
      "text/plain": [
       "2"
      ]
     },
     "execution_count": 16,
     "metadata": {},
     "output_type": "execute_result"
    }
   ],
   "source": [
    "sys.getrefcount(a)"
   ]
  },
  {
   "cell_type": "code",
   "execution_count": 17,
   "id": "6744061d",
   "metadata": {},
   "outputs": [],
   "source": [
    "import ctypes"
   ]
  },
  {
   "cell_type": "code",
   "execution_count": 18,
   "id": "c59eb2a9",
   "metadata": {},
   "outputs": [],
   "source": [
    "# wrapper class\n",
    "def ref_count(address: int):\n",
    "    return ctypes.c_long.from_address(address).value"
   ]
  },
  {
   "cell_type": "code",
   "execution_count": 19,
   "id": "5078c855",
   "metadata": {},
   "outputs": [
    {
     "data": {
      "text/plain": [
       "1"
      ]
     },
     "execution_count": 19,
     "metadata": {},
     "output_type": "execute_result"
    }
   ],
   "source": [
    "ref_count(id(a))"
   ]
  },
  {
   "cell_type": "code",
   "execution_count": 22,
   "id": "3532a75a",
   "metadata": {},
   "outputs": [
    {
     "data": {
      "text/plain": [
       "5"
      ]
     },
     "execution_count": 22,
     "metadata": {},
     "output_type": "execute_result"
    }
   ],
   "source": [
    "ref_count(id(a))"
   ]
  },
  {
   "cell_type": "code",
   "execution_count": 23,
   "id": "93b0fb40",
   "metadata": {},
   "outputs": [
    {
     "data": {
      "text/plain": [
       "5"
      ]
     },
     "execution_count": 23,
     "metadata": {},
     "output_type": "execute_result"
    }
   ],
   "source": [
    "ref_count(id(a))"
   ]
  },
  {
   "cell_type": "code",
   "execution_count": 24,
   "id": "d2f65a99",
   "metadata": {},
   "outputs": [],
   "source": [
    "b = a"
   ]
  },
  {
   "cell_type": "code",
   "execution_count": 25,
   "id": "057251b4",
   "metadata": {},
   "outputs": [
    {
     "data": {
      "text/plain": [
       "1459358581120"
      ]
     },
     "execution_count": 25,
     "metadata": {},
     "output_type": "execute_result"
    }
   ],
   "source": [
    "id(b)"
   ]
  },
  {
   "cell_type": "code",
   "execution_count": 26,
   "id": "01f3be4d",
   "metadata": {},
   "outputs": [
    {
     "data": {
      "text/plain": [
       "1459358581120"
      ]
     },
     "execution_count": 26,
     "metadata": {},
     "output_type": "execute_result"
    }
   ],
   "source": [
    "id(a)"
   ]
  },
  {
   "cell_type": "code",
   "execution_count": 27,
   "id": "027ac02a",
   "metadata": {},
   "outputs": [
    {
     "data": {
      "text/plain": [
       "8"
      ]
     },
     "execution_count": 27,
     "metadata": {},
     "output_type": "execute_result"
    }
   ],
   "source": [
    "ref_count(id(b))"
   ]
  },
  {
   "cell_type": "code",
   "execution_count": 28,
   "id": "3e83a78f",
   "metadata": {},
   "outputs": [
    {
     "data": {
      "text/plain": [
       "8"
      ]
     },
     "execution_count": 28,
     "metadata": {},
     "output_type": "execute_result"
    }
   ],
   "source": [
    "ref_count(id(a))"
   ]
  },
  {
   "cell_type": "code",
   "execution_count": 29,
   "id": "2857f43e",
   "metadata": {},
   "outputs": [
    {
     "data": {
      "text/plain": [
       "7"
      ]
     },
     "execution_count": 29,
     "metadata": {},
     "output_type": "execute_result"
    }
   ],
   "source": [
    "b = None\n",
    "ref_count(id(a))"
   ]
  },
  {
   "cell_type": "code",
   "execution_count": 30,
   "id": "5b8f0d7d",
   "metadata": {},
   "outputs": [
    {
     "data": {
      "text/plain": [
       "8"
      ]
     },
     "execution_count": 30,
     "metadata": {},
     "output_type": "execute_result"
    }
   ],
   "source": [
    "a_id = id(a)\n",
    "a = None\n",
    "ref_count(a_id)"
   ]
  },
  {
   "cell_type": "code",
   "execution_count": 31,
   "id": "f116a5db",
   "metadata": {},
   "outputs": [
    {
     "data": {
      "text/plain": [
       "8"
      ]
     },
     "execution_count": 31,
     "metadata": {},
     "output_type": "execute_result"
    }
   ],
   "source": [
    "ref_count(a_id)"
   ]
  },
  {
   "cell_type": "code",
   "execution_count": 33,
   "id": "ce4fb462",
   "metadata": {},
   "outputs": [
    {
     "name": "stdout",
     "output_type": "stream",
     "text": [
      "None\n"
     ]
    }
   ],
   "source": [
    "print(a)"
   ]
  },
  {
   "cell_type": "code",
   "execution_count": 34,
   "id": "a28ff1ea",
   "metadata": {},
   "outputs": [
    {
     "data": {
      "text/plain": [
       "36778"
      ]
     },
     "execution_count": 34,
     "metadata": {},
     "output_type": "execute_result"
    }
   ],
   "source": [
    "ref_count(id(a))"
   ]
  },
  {
   "cell_type": "code",
   "execution_count": 35,
   "id": "57bbe022",
   "metadata": {},
   "outputs": [
    {
     "data": {
      "text/plain": [
       "8"
      ]
     },
     "execution_count": 35,
     "metadata": {},
     "output_type": "execute_result"
    }
   ],
   "source": [
    "ref_count(a_id)"
   ]
  },
  {
   "cell_type": "code",
   "execution_count": null,
   "id": "c379c291",
   "metadata": {},
   "outputs": [],
   "source": []
  }
 ],
 "metadata": {
  "kernelspec": {
   "display_name": "Python 3",
   "language": "python",
   "name": "python3"
  },
  "language_info": {
   "codemirror_mode": {
    "name": "ipython",
    "version": 3
   },
   "file_extension": ".py",
   "mimetype": "text/x-python",
   "name": "python",
   "nbconvert_exporter": "python",
   "pygments_lexer": "ipython3",
   "version": "3.8.8"
  }
 },
 "nbformat": 4,
 "nbformat_minor": 5
}

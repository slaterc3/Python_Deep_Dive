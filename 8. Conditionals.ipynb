{
 "cells": [
  {
   "cell_type": "markdown",
   "id": "c87a8de7",
   "metadata": {},
   "source": [
    "## Conditionals"
   ]
  },
  {
   "cell_type": "code",
   "execution_count": 2,
   "id": "b74a3a15",
   "metadata": {},
   "outputs": [
    {
     "name": "stdout",
     "output_type": "stream",
     "text": [
      "a >= 5\n"
     ]
    }
   ],
   "source": [
    "a = 6\n",
    "\n",
    "if a < 6:\n",
    "    print('a < 6')\n",
    "else:\n",
    "    print('a >= 5')"
   ]
  },
  {
   "cell_type": "code",
   "execution_count": 4,
   "id": "b3975b73",
   "metadata": {},
   "outputs": [
    {
     "name": "stdout",
     "output_type": "stream",
     "text": [
      "7 <= a < 11\n"
     ]
    }
   ],
   "source": [
    "a = 7\n",
    "\n",
    "if a < 7:\n",
    "    print('a < 7')\n",
    "else:\n",
    "    if a < 11:\n",
    "        print('7 <= a < 11')\n",
    "    else:\n",
    "        print('a >= 11')"
   ]
  },
  {
   "cell_type": "markdown",
   "id": "4dd327fd",
   "metadata": {},
   "source": [
    "**elif** closest to *switch* statment in Java, C++, etc...\n"
   ]
  },
  {
   "cell_type": "markdown",
   "id": "339fcc4e",
   "metadata": {},
   "source": [
    "## Ternary operator\n"
   ]
  },
  {
   "cell_type": "code",
   "execution_count": 10,
   "id": "fc7199fc",
   "metadata": {},
   "outputs": [
    {
     "name": "stdout",
     "output_type": "stream",
     "text": [
      "a < 4\n"
     ]
    }
   ],
   "source": [
    "a = 3\n",
    "\n",
    "if a < 4:\n",
    "    b = 'a < 4'\n",
    "else: b = 'a >= 4'\n",
    "    \n",
    "print(b)"
   ]
  },
  {
   "cell_type": "code",
   "execution_count": 11,
   "id": "d52d46cb",
   "metadata": {},
   "outputs": [
    {
     "data": {
      "text/plain": [
       "'a < 4'"
      ]
     },
     "execution_count": 11,
     "metadata": {},
     "output_type": "execute_result"
    }
   ],
   "source": [
    "b = 'a < 4' if a < 5 else 'a >= 5'\n",
    "b"
   ]
  },
  {
   "cell_type": "code",
   "execution_count": null,
   "id": "f86704da",
   "metadata": {},
   "outputs": [],
   "source": []
  }
 ],
 "metadata": {
  "kernelspec": {
   "display_name": "Python 3",
   "language": "python",
   "name": "python3"
  },
  "language_info": {
   "codemirror_mode": {
    "name": "ipython",
    "version": 3
   },
   "file_extension": ".py",
   "mimetype": "text/x-python",
   "name": "python",
   "nbconvert_exporter": "python",
   "pygments_lexer": "ipython3",
   "version": "3.8.8"
  }
 },
 "nbformat": 4,
 "nbformat_minor": 5
}

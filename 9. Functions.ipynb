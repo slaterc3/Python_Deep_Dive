{
 "cells": [
  {
   "cell_type": "markdown",
   "id": "c30bba3d",
   "metadata": {},
   "source": [
    "## Functions\n"
   ]
  },
  {
   "cell_type": "markdown",
   "id": "ac2e3519",
   "metadata": {},
   "source": [
    "**Built-in functions**\n",
    "- len()\n"
   ]
  },
  {
   "cell_type": "code",
   "execution_count": 7,
   "id": "c6487f18",
   "metadata": {},
   "outputs": [
    {
     "data": {
      "text/plain": [
       "3"
      ]
     },
     "execution_count": 7,
     "metadata": {},
     "output_type": "execute_result"
    }
   ],
   "source": [
    "s = [3,4,5]\n",
    "len(s)"
   ]
  },
  {
   "cell_type": "markdown",
   "id": "f0625e44",
   "metadata": {},
   "source": [
    "***requiring importation***\n",
    "\n",
    "- math module\n"
   ]
  },
  {
   "cell_type": "code",
   "execution_count": 8,
   "id": "d35a1ba6",
   "metadata": {},
   "outputs": [],
   "source": [
    "from math import sqrt"
   ]
  },
  {
   "cell_type": "code",
   "execution_count": 9,
   "id": "b6433e5f",
   "metadata": {},
   "outputs": [
    {
     "data": {
      "text/plain": [
       "2.0"
      ]
     },
     "execution_count": 9,
     "metadata": {},
     "output_type": "execute_result"
    }
   ],
   "source": [
    "sqrt(4)"
   ]
  },
  {
   "cell_type": "code",
   "execution_count": 10,
   "id": "1576b48f",
   "metadata": {},
   "outputs": [],
   "source": [
    "import math"
   ]
  },
  {
   "cell_type": "code",
   "execution_count": 11,
   "id": "5bd76957",
   "metadata": {},
   "outputs": [
    {
     "data": {
      "text/plain": [
       "3.141592653589793"
      ]
     },
     "execution_count": 11,
     "metadata": {},
     "output_type": "execute_result"
    }
   ],
   "source": [
    "math.pi"
   ]
  },
  {
   "cell_type": "markdown",
   "id": "49739985",
   "metadata": {},
   "source": [
    "$\\texttt{e raised to the 1st power}\\\\$\n",
    "$e^1$\n",
    "```python\n",
    "math.exp(1)\n",
    "```"
   ]
  },
  {
   "cell_type": "code",
   "execution_count": 12,
   "id": "89dd811d",
   "metadata": {},
   "outputs": [
    {
     "data": {
      "text/plain": [
       "2.718281828459045"
      ]
     },
     "execution_count": 12,
     "metadata": {},
     "output_type": "execute_result"
    }
   ],
   "source": [
    "math.exp(1)"
   ]
  },
  {
   "cell_type": "code",
   "execution_count": 13,
   "id": "7fb37640",
   "metadata": {},
   "outputs": [],
   "source": [
    "def func_1():\n",
    "    print('running func_1')"
   ]
  },
  {
   "cell_type": "markdown",
   "id": "0f81061a",
   "metadata": {},
   "source": [
    "calling **func_1** by itself doesn't *invoke* the function\n"
   ]
  },
  {
   "cell_type": "code",
   "execution_count": 14,
   "id": "45f1a18d",
   "metadata": {},
   "outputs": [
    {
     "data": {
      "text/plain": [
       "<function __main__.func_1()>"
      ]
     },
     "execution_count": 14,
     "metadata": {},
     "output_type": "execute_result"
    }
   ],
   "source": [
    "func_1"
   ]
  },
  {
   "cell_type": "code",
   "execution_count": 15,
   "id": "e5be53ae",
   "metadata": {},
   "outputs": [
    {
     "name": "stdout",
     "output_type": "stream",
     "text": [
      "running func_1\n"
     ]
    }
   ],
   "source": [
    "# invoking the function\n",
    "func_1()"
   ]
  },
  {
   "cell_type": "code",
   "execution_count": 16,
   "id": "410b01b4",
   "metadata": {},
   "outputs": [],
   "source": [
    "def func_2(a,b):\n",
    "    return a * b"
   ]
  },
  {
   "cell_type": "code",
   "execution_count": 18,
   "id": "e4e887d9",
   "metadata": {},
   "outputs": [
    {
     "data": {
      "text/plain": [
       "'zzzz'"
      ]
     },
     "execution_count": 18,
     "metadata": {},
     "output_type": "execute_result"
    }
   ],
   "source": [
    "func_2('z',4)"
   ]
  },
  {
   "cell_type": "code",
   "execution_count": null,
   "id": "3907c7bf",
   "metadata": {},
   "outputs": [],
   "source": []
  },
  {
   "cell_type": "markdown",
   "id": "5c08318e",
   "metadata": {},
   "source": [
    "or with *annotations*\n",
    "```python\n",
    "def func_2(a: int,b: int):\n",
    "    return a * b\n",
    "```"
   ]
  },
  {
   "cell_type": "code",
   "execution_count": 17,
   "id": "013b81ef",
   "metadata": {},
   "outputs": [],
   "source": [
    "def func_2_with_annotations(a: int, b: int):\n",
    "    return a * b"
   ]
  },
  {
   "cell_type": "code",
   "execution_count": 19,
   "id": "ce177b32",
   "metadata": {},
   "outputs": [
    {
     "data": {
      "text/plain": [
       "'zzzz'"
      ]
     },
     "execution_count": 19,
     "metadata": {},
     "output_type": "execute_result"
    }
   ],
   "source": [
    "# annotations are not binding\n",
    "func_2_with_annotations('z',4)"
   ]
  },
  {
   "cell_type": "code",
   "execution_count": 20,
   "id": "be912c3b",
   "metadata": {},
   "outputs": [],
   "source": [
    "# func_3 and func_4 have not been seen before\n",
    "def func_3():\n",
    "    return func_4()\n",
    "\n",
    "def func_4():\n",
    "    return 'running func_4'"
   ]
  },
  {
   "cell_type": "code",
   "execution_count": 21,
   "id": "1d1fa670",
   "metadata": {},
   "outputs": [
    {
     "data": {
      "text/plain": [
       "'running func_4'"
      ]
     },
     "execution_count": 21,
     "metadata": {},
     "output_type": "execute_result"
    }
   ],
   "source": [
    "func_3()"
   ]
  },
  {
   "cell_type": "code",
   "execution_count": 22,
   "id": "f81f348a",
   "metadata": {},
   "outputs": [
    {
     "data": {
      "text/plain": [
       "function"
      ]
     },
     "execution_count": 22,
     "metadata": {},
     "output_type": "execute_result"
    }
   ],
   "source": [
    "type(func_4)"
   ]
  },
  {
   "cell_type": "code",
   "execution_count": 23,
   "id": "eae3b61e",
   "metadata": {},
   "outputs": [],
   "source": [
    "my_func = func_4"
   ]
  },
  {
   "cell_type": "code",
   "execution_count": 24,
   "id": "b681ea44",
   "metadata": {},
   "outputs": [
    {
     "data": {
      "text/plain": [
       "'running func_4'"
      ]
     },
     "execution_count": 24,
     "metadata": {},
     "output_type": "execute_result"
    }
   ],
   "source": [
    "my_func()"
   ]
  },
  {
   "cell_type": "code",
   "execution_count": 25,
   "id": "74ae6a1a",
   "metadata": {},
   "outputs": [
    {
     "data": {
      "text/plain": [
       "'running func_4'"
      ]
     },
     "execution_count": 25,
     "metadata": {},
     "output_type": "execute_result"
    }
   ],
   "source": [
    "func_4()"
   ]
  },
  {
   "cell_type": "code",
   "execution_count": 26,
   "id": "e1a4ea9d",
   "metadata": {},
   "outputs": [
    {
     "data": {
      "text/plain": [
       "<function __main__.<lambda>(x)>"
      ]
     },
     "execution_count": 26,
     "metadata": {},
     "output_type": "execute_result"
    }
   ],
   "source": [
    "lambda x: x**2"
   ]
  },
  {
   "cell_type": "code",
   "execution_count": 27,
   "id": "651c087b",
   "metadata": {},
   "outputs": [],
   "source": [
    "fn1 = lambda x: x**2"
   ]
  },
  {
   "cell_type": "code",
   "execution_count": 28,
   "id": "57def40b",
   "metadata": {},
   "outputs": [
    {
     "data": {
      "text/plain": [
       "9"
      ]
     },
     "execution_count": 28,
     "metadata": {},
     "output_type": "execute_result"
    }
   ],
   "source": [
    "fn1(3)"
   ]
  },
  {
   "cell_type": "code",
   "execution_count": null,
   "id": "dfe69ca1",
   "metadata": {},
   "outputs": [],
   "source": []
  }
 ],
 "metadata": {
  "kernelspec": {
   "display_name": "Python 3",
   "language": "python",
   "name": "python3"
  },
  "language_info": {
   "codemirror_mode": {
    "name": "ipython",
    "version": 3
   },
   "file_extension": ".py",
   "mimetype": "text/x-python",
   "name": "python",
   "nbconvert_exporter": "python",
   "pygments_lexer": "ipython3",
   "version": "3.8.8"
  }
 },
 "nbformat": 4,
 "nbformat_minor": 5
}

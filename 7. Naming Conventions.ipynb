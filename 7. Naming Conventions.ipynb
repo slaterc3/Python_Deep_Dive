{
 "cells": [
  {
   "cell_type": "markdown",
   "id": "938ff041",
   "metadata": {},
   "source": [
    "**Identifier names**\n",
    "\n",
    "- case sensitive\n",
    "\n",
    "**rules**\n",
    "- start with (**_**) or (**a-z A-Z**)\n",
    "- followed by underscores, letters, digits\n",
    "- cannot be reserved words\n"
   ]
  },
  {
   "cell_type": "markdown",
   "id": "51529b3f",
   "metadata": {},
   "source": [
    "**Conventions**\n",
    "\n",
    "- leading underscore - \"internal use\" or \"private\" objects\n",
    "- ex. **_my_var**\n",
    "- will not import (from module import *)\n",
    "- double underscore  - class attributes (inheritance)\n",
    "- ex. **__my_var**\n",
    "- **dunder**  system-defined names w/special meaning for interpreter\n",
    "- ex. double_underscore*my_var*double_underscore\n",
    "- don't event them"
   ]
  },
  {
   "cell_type": "code",
   "execution_count": 2,
   "id": "5660c1ec",
   "metadata": {},
   "outputs": [
    {
     "name": "stdout",
     "output_type": "stream",
     "text": [
      "True\n",
      "True\n"
     ]
    }
   ],
   "source": [
    "x = 1\n",
    "y = 2\n",
    "print(x < y)\n",
    "# same\n",
    "print(x.__lt__(y))"
   ]
  },
  {
   "cell_type": "markdown",
   "id": "6868b434",
   "metadata": {},
   "source": [
    "### PEP 8 Style Guide\n",
    "[Find it here](https://www.python.org/dev/peps/pep-0008/)\n",
    "\n",
    "**Packages** \n",
    "\n",
    "- short, all-lowercase, preferably no underscores\n",
    "\n",
    "**Modules** \n",
    "\n",
    "- short, all-lowercase, can have underscores\n",
    "\n",
    "**Classes** \n",
    "\n",
    "- CapWords - upper camel case - convention\n",
    "\n",
    "**Functions**\n",
    "\n",
    "- snake_case\n",
    "\n",
    "**Variables**\n",
    "\n",
    "- snake_case\n",
    "\n",
    "**Constants**\n",
    "\n",
    "- UPPER_CASE\n"
   ]
  },
  {
   "cell_type": "code",
   "execution_count": null,
   "id": "70db020a",
   "metadata": {},
   "outputs": [],
   "source": []
  }
 ],
 "metadata": {
  "kernelspec": {
   "display_name": "Python 3",
   "language": "python",
   "name": "python3"
  },
  "language_info": {
   "codemirror_mode": {
    "name": "ipython",
    "version": 3
   },
   "file_extension": ".py",
   "mimetype": "text/x-python",
   "name": "python",
   "nbconvert_exporter": "python",
   "pygments_lexer": "ipython3",
   "version": "3.8.8"
  }
 },
 "nbformat": 4,
 "nbformat_minor": 5
}

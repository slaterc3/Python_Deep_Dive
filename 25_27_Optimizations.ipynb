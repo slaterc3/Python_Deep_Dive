{
 "cells": [
  {
   "cell_type": "markdown",
   "id": "b4711ddc",
   "metadata": {},
   "source": [
    "Jython - written in Java \\\n",
    "IronPython - C# \\\n",
    "PyPy - written in RPython\n"
   ]
  },
  {
   "cell_type": "markdown",
   "id": "b9096fbb",
   "metadata": {},
   "source": [
    "-5 to 256 are pre-cached"
   ]
  },
  {
   "cell_type": "markdown",
   "id": "690556e4",
   "metadata": {},
   "source": [
    "[-5, 256]"
   ]
  },
  {
   "cell_type": "code",
   "execution_count": 13,
   "id": "68165db8",
   "metadata": {},
   "outputs": [
    {
     "data": {
      "text/plain": [
       "True"
      ]
     },
     "execution_count": 13,
     "metadata": {},
     "output_type": "execute_result"
    }
   ],
   "source": [
    "a = 10\n",
    "b = 10\n",
    "id(a) == id(b)\n"
   ]
  },
  {
   "cell_type": "code",
   "execution_count": 14,
   "id": "408993a8",
   "metadata": {},
   "outputs": [
    {
     "data": {
      "text/plain": [
       "True"
      ]
     },
     "execution_count": 14,
     "metadata": {},
     "output_type": "execute_result"
    }
   ],
   "source": [
    "a = -5\n",
    "b = -5\n",
    "id(a) == id(b)"
   ]
  },
  {
   "cell_type": "code",
   "execution_count": 15,
   "id": "b22dde80",
   "metadata": {},
   "outputs": [
    {
     "data": {
      "text/plain": [
       "False"
      ]
     },
     "execution_count": 15,
     "metadata": {},
     "output_type": "execute_result"
    }
   ],
   "source": [
    "a = 257\n",
    "b = 257\n",
    "id(a) == id(b)"
   ]
  },
  {
   "cell_type": "code",
   "execution_count": 16,
   "id": "840fc67e",
   "metadata": {},
   "outputs": [],
   "source": [
    "a = 10\n",
    "b = int(10)\n",
    "c = int('10')\n",
    "d = int('1010',2)"
   ]
  },
  {
   "cell_type": "code",
   "execution_count": 17,
   "id": "0801dd35",
   "metadata": {},
   "outputs": [
    {
     "name": "stdout",
     "output_type": "stream",
     "text": [
      "10 10 10 10\n"
     ]
    }
   ],
   "source": [
    "print(a,b,c,d)"
   ]
  },
  {
   "cell_type": "code",
   "execution_count": 19,
   "id": "eb194833",
   "metadata": {},
   "outputs": [
    {
     "name": "stdout",
     "output_type": "stream",
     "text": [
      "140724327950416 140724327950416 140724327950416 140724327950416\n"
     ]
    },
    {
     "data": {
      "text/plain": [
       "True"
      ]
     },
     "execution_count": 19,
     "metadata": {},
     "output_type": "execute_result"
    }
   ],
   "source": [
    "print(id(a),id(b),id(c),id(d))\n",
    "id(a) == id(b) == id(c) == id(d)"
   ]
  },
  {
   "cell_type": "markdown",
   "id": "fecb8bd0",
   "metadata": {},
   "source": [
    "### string interning\n",
    "not all strings are interned \\\n",
    "identifiers are interned\n",
    "- var names\n",
    "- func names\n",
    "- class names\n"
   ]
  },
  {
   "cell_type": "markdown",
   "id": "798314ca",
   "metadata": {},
   "source": [
    "```python\n",
    "a = 'some_long_string'\n",
    "b = 'some_long_string'\n",
    "a is b #faster, checks memory address\n",
    "a == b # char by char, slower\n",
    "```"
   ]
  },
  {
   "cell_type": "markdown",
   "id": "ea447e2b",
   "metadata": {},
   "source": [
    "### forced interning\n",
    "```python\n",
    "import sys\n",
    "a = sys.intern('xyz')\n",
    "b = sys.intern('xyz')\n",
    "a is b # -> True\n",
    "```\n",
    "### could be useful for NLP, faster processing"
   ]
  },
  {
   "cell_type": "code",
   "execution_count": 25,
   "id": "b4fdd0bc",
   "metadata": {},
   "outputs": [
    {
     "data": {
      "text/plain": [
       "True"
      ]
     },
     "execution_count": 25,
     "metadata": {},
     "output_type": "execute_result"
    }
   ],
   "source": [
    "a = 'hello'\n",
    "b = 'hello' # looks like identifier, so will get interned\n",
    "id(a) == id(b)\n",
    "a is b"
   ]
  },
  {
   "cell_type": "code",
   "execution_count": 27,
   "id": "a46495ee",
   "metadata": {},
   "outputs": [
    {
     "data": {
      "text/plain": [
       "False"
      ]
     },
     "execution_count": 27,
     "metadata": {},
     "output_type": "execute_result"
    }
   ],
   "source": [
    "a = 'hello world'\n",
    "b = 'hello world'\n",
    "id(a) == id(b)\n",
    "a is b"
   ]
  },
  {
   "cell_type": "code",
   "execution_count": 24,
   "id": "e25d54f7",
   "metadata": {},
   "outputs": [
    {
     "data": {
      "text/plain": [
       "True"
      ]
     },
     "execution_count": 24,
     "metadata": {},
     "output_type": "execute_result"
    }
   ],
   "source": [
    "a == b"
   ]
  },
  {
   "cell_type": "code",
   "execution_count": 28,
   "id": "c0d3a8a3",
   "metadata": {},
   "outputs": [],
   "source": [
    "a = '_this_is_a_long_string_that_Couldbe_used'\n",
    "b = '_this_is_a_long_string_that_Couldbe_used'"
   ]
  },
  {
   "cell_type": "code",
   "execution_count": 29,
   "id": "e37a95d1",
   "metadata": {},
   "outputs": [
    {
     "data": {
      "text/plain": [
       "True"
      ]
     },
     "execution_count": 29,
     "metadata": {},
     "output_type": "execute_result"
    }
   ],
   "source": [
    "a is b"
   ]
  },
  {
   "cell_type": "code",
   "execution_count": 30,
   "id": "e7ab1140",
   "metadata": {},
   "outputs": [],
   "source": [
    "import sys"
   ]
  },
  {
   "cell_type": "code",
   "execution_count": 31,
   "id": "33eb1beb",
   "metadata": {},
   "outputs": [],
   "source": [
    "a = sys.intern('hello world')"
   ]
  },
  {
   "cell_type": "code",
   "execution_count": 32,
   "id": "c6075bdc",
   "metadata": {},
   "outputs": [],
   "source": [
    "b = sys.intern('hello world')"
   ]
  },
  {
   "cell_type": "code",
   "execution_count": 33,
   "id": "c28dab57",
   "metadata": {},
   "outputs": [],
   "source": [
    "c = 'hello world'"
   ]
  },
  {
   "cell_type": "code",
   "execution_count": 34,
   "id": "7f3acaa9",
   "metadata": {},
   "outputs": [
    {
     "data": {
      "text/plain": [
       "True"
      ]
     },
     "execution_count": 34,
     "metadata": {},
     "output_type": "execute_result"
    }
   ],
   "source": [
    "a is b"
   ]
  },
  {
   "cell_type": "code",
   "execution_count": 35,
   "id": "cad3c1de",
   "metadata": {},
   "outputs": [
    {
     "data": {
      "text/plain": [
       "False"
      ]
     },
     "execution_count": 35,
     "metadata": {},
     "output_type": "execute_result"
    }
   ],
   "source": [
    "a is c"
   ]
  },
  {
   "cell_type": "code",
   "execution_count": 36,
   "id": "5d222840",
   "metadata": {},
   "outputs": [],
   "source": [
    "#all strings need to be interned\n"
   ]
  },
  {
   "cell_type": "code",
   "execution_count": 37,
   "id": "89bd26d7",
   "metadata": {},
   "outputs": [],
   "source": [
    "def compare_using_equals(num):\n",
    "    a = 'a long string that is not interned' * 200\n",
    "    b = 'a long string that is not interned' * 200\n",
    "    for i in range(num):\n",
    "        if a == b:\n",
    "            pass\n",
    "        \n",
    "    "
   ]
  },
  {
   "cell_type": "code",
   "execution_count": 38,
   "id": "2eb05f44",
   "metadata": {},
   "outputs": [],
   "source": [
    "def compare_using_interning(num):\n",
    "    a = sys.intern('a long string that is not interned' * 200)\n",
    "    b = sys.intern('a long string that is not interned' * 200)\n",
    "    for i in range(num):\n",
    "        if a is b:\n",
    "            pass\n",
    "    "
   ]
  },
  {
   "cell_type": "code",
   "execution_count": 46,
   "id": "03f37573",
   "metadata": {},
   "outputs": [
    {
     "name": "stdout",
     "output_type": "stream",
     "text": [
      "equality: 2.7654816000001574\n"
     ]
    }
   ],
   "source": [
    "import time\n",
    "start = time.perf_counter()\n",
    "compare_using_equals(10000000)\n",
    "end = time.perf_counter()\n",
    "print('equality:',end-start)"
   ]
  },
  {
   "cell_type": "code",
   "execution_count": 49,
   "id": "ed184a08",
   "metadata": {},
   "outputs": [
    {
     "name": "stdout",
     "output_type": "stream",
     "text": [
      "interning: 0.3938058999999612\n"
     ]
    }
   ],
   "source": [
    "start = time.perf_counter()\n",
    "compare_using_interning(10000000)\n",
    "end = time.perf_counter()\n",
    "print('interning:',end-start)"
   ]
  },
  {
   "cell_type": "markdown",
   "id": "06c02e33",
   "metadata": {},
   "source": [
    "### Peephole Optimizations"
   ]
  },
  {
   "cell_type": "markdown",
   "id": "cff2aa49",
   "metadata": {},
   "source": [
    "happen at compile time \\\n",
    "- constant expressions\n",
    "- short sequences, length < 20"
   ]
  },
  {
   "cell_type": "markdown",
   "id": "02dc116c",
   "metadata": {},
   "source": [
    "- membership tests\n",
    " - if e in [1,2,3]:\n",
    "  - the list -> tuple\n",
    "  - sets -> frozensets\n",
    "- sets are faster than list or tuple membership"
   ]
  },
  {
   "cell_type": "markdown",
   "id": "6a6d21bb",
   "metadata": {},
   "source": [
    "```python\n",
    "# set is faster\n",
    "if e in {1, 2, 3}: # faster than\n",
    "# list or tuple:\n",
    "if e in [1, 2, 3]: \n",
    "    if e in (1, 2, 3):\n",
    "```\n"
   ]
  },
  {
   "cell_type": "code",
   "execution_count": 52,
   "id": "790029ef",
   "metadata": {},
   "outputs": [],
   "source": [
    "def my_f():\n",
    "    a = 24 * 60\n",
    "    b = (1, 2) * 5\n",
    "    c = 'abc' * 3\n",
    "    d = 'ab' * 11\n",
    "    e = 'the quick brown fox' * 5\n",
    "    f = ['a','b'] * 3"
   ]
  },
  {
   "cell_type": "code",
   "execution_count": 53,
   "id": "c6cde76c",
   "metadata": {},
   "outputs": [
    {
     "data": {
      "text/plain": [
       "(None,\n",
       " 1440,\n",
       " (1, 2, 1, 2, 1, 2, 1, 2, 1, 2),\n",
       " 'abcabcabc',\n",
       " 'ababababababababababab',\n",
       " 'the quick brown foxthe quick brown foxthe quick brown foxthe quick brown foxthe quick brown fox',\n",
       " 'a',\n",
       " 'b',\n",
       " 3)"
      ]
     },
     "execution_count": 53,
     "metadata": {},
     "output_type": "execute_result"
    }
   ],
   "source": [
    "my_f.__code__.co_consts"
   ]
  },
  {
   "cell_type": "code",
   "execution_count": 54,
   "id": "6701d10f",
   "metadata": {},
   "outputs": [],
   "source": [
    "def my_func(e):\n",
    "    if e in [1,2,3]:\n",
    "        pass"
   ]
  },
  {
   "cell_type": "code",
   "execution_count": 55,
   "id": "da2db2cb",
   "metadata": {},
   "outputs": [
    {
     "data": {
      "text/plain": [
       "(None, (1, 2, 3))"
      ]
     },
     "execution_count": 55,
     "metadata": {},
     "output_type": "execute_result"
    }
   ],
   "source": [
    "# list becomes tuple\n",
    "my_func.__code__.co_consts"
   ]
  },
  {
   "cell_type": "code",
   "execution_count": 56,
   "id": "43f4889b",
   "metadata": {},
   "outputs": [
    {
     "data": {
      "text/plain": [
       "(None, frozenset({1, 2, 3}))"
      ]
     },
     "execution_count": 56,
     "metadata": {},
     "output_type": "execute_result"
    }
   ],
   "source": [
    "def my_function(e):\n",
    "    if e in {1, 2, 3}:\n",
    "        pass\n",
    "my_function.__code__.co_consts"
   ]
  },
  {
   "cell_type": "code",
   "execution_count": 57,
   "id": "7af946d2",
   "metadata": {},
   "outputs": [],
   "source": [
    "import string\n",
    "import time"
   ]
  },
  {
   "cell_type": "code",
   "execution_count": 58,
   "id": "a4a94d46",
   "metadata": {},
   "outputs": [
    {
     "data": {
      "text/plain": [
       "'abcdefghijklmnopqrstuvwxyzABCDEFGHIJKLMNOPQRSTUVWXYZ'"
      ]
     },
     "execution_count": 58,
     "metadata": {},
     "output_type": "execute_result"
    }
   ],
   "source": [
    "string.ascii_letters"
   ]
  },
  {
   "cell_type": "code",
   "execution_count": 59,
   "id": "8ac5147b",
   "metadata": {},
   "outputs": [],
   "source": [
    "char_list = list(string.ascii_letters)"
   ]
  },
  {
   "cell_type": "code",
   "execution_count": 60,
   "id": "af34c735",
   "metadata": {},
   "outputs": [],
   "source": [
    "char_tuple = tuple(string.ascii_letters)"
   ]
  },
  {
   "cell_type": "code",
   "execution_count": 61,
   "id": "103c4563",
   "metadata": {},
   "outputs": [],
   "source": [
    "char_set = set(string.ascii_letters)"
   ]
  },
  {
   "cell_type": "code",
   "execution_count": 62,
   "id": "0d0a34ef",
   "metadata": {},
   "outputs": [
    {
     "name": "stdout",
     "output_type": "stream",
     "text": [
      "['a', 'b', 'c', 'd', 'e', 'f', 'g', 'h', 'i', 'j', 'k', 'l', 'm', 'n', 'o', 'p', 'q', 'r', 's', 't', 'u', 'v', 'w', 'x', 'y', 'z', 'A', 'B', 'C', 'D', 'E', 'F', 'G', 'H', 'I', 'J', 'K', 'L', 'M', 'N', 'O', 'P', 'Q', 'R', 'S', 'T', 'U', 'V', 'W', 'X', 'Y', 'Z']\n"
     ]
    }
   ],
   "source": [
    "print(char_list)"
   ]
  },
  {
   "cell_type": "code",
   "execution_count": 63,
   "id": "5175a8b4",
   "metadata": {},
   "outputs": [
    {
     "name": "stdout",
     "output_type": "stream",
     "text": [
      "('a', 'b', 'c', 'd', 'e', 'f', 'g', 'h', 'i', 'j', 'k', 'l', 'm', 'n', 'o', 'p', 'q', 'r', 's', 't', 'u', 'v', 'w', 'x', 'y', 'z', 'A', 'B', 'C', 'D', 'E', 'F', 'G', 'H', 'I', 'J', 'K', 'L', 'M', 'N', 'O', 'P', 'Q', 'R', 'S', 'T', 'U', 'V', 'W', 'X', 'Y', 'Z')\n"
     ]
    }
   ],
   "source": [
    "print(char_tuple)"
   ]
  },
  {
   "cell_type": "code",
   "execution_count": 64,
   "id": "415ceca4",
   "metadata": {},
   "outputs": [
    {
     "name": "stdout",
     "output_type": "stream",
     "text": [
      "{'S', 'i', 'b', 'f', 'c', 'o', 'N', 'j', 'q', 'r', 'T', 'Y', 't', 'V', 'h', 'm', 'B', 'v', 'x', 'l', 'X', 'K', 'Z', 'C', 'F', 'y', 'a', 'G', 'g', 'D', 'e', 'k', 'L', 'd', 'J', 'E', 'p', 'I', 'u', 'R', 's', 'H', 'w', 'M', 'P', 'Q', 'U', 'A', 'n', 'z', 'O', 'W'}\n"
     ]
    }
   ],
   "source": [
    "print(char_set)"
   ]
  },
  {
   "cell_type": "code",
   "execution_count": 65,
   "id": "67497a20",
   "metadata": {},
   "outputs": [],
   "source": [
    "# notice set not in order"
   ]
  },
  {
   "cell_type": "code",
   "execution_count": 66,
   "id": "5cb7639c",
   "metadata": {},
   "outputs": [],
   "source": [
    "def member_test(n, container):\n",
    "    for i in range(n):\n",
    "        if 'z' in container:\n",
    "            pass"
   ]
  },
  {
   "cell_type": "code",
   "execution_count": 67,
   "id": "7eac214f",
   "metadata": {},
   "outputs": [
    {
     "name": "stdout",
     "output_type": "stream",
     "text": [
      "list: 3.942406899999696\n"
     ]
    }
   ],
   "source": [
    "start = time.perf_counter()\n",
    "member_test(10000000,char_list)\n",
    "end = time.perf_counter()\n",
    "print('list:',end-start)"
   ]
  },
  {
   "cell_type": "code",
   "execution_count": 69,
   "id": "326c17a5",
   "metadata": {},
   "outputs": [
    {
     "name": "stdout",
     "output_type": "stream",
     "text": [
      "tuple: 3.8172982000000957\n"
     ]
    }
   ],
   "source": [
    "start = time.perf_counter()\n",
    "member_test(10000000,char_tuple)\n",
    "end = time.perf_counter()\n",
    "print('tuple:',end-start)"
   ]
  },
  {
   "cell_type": "code",
   "execution_count": 71,
   "id": "d3bdd2f3",
   "metadata": {},
   "outputs": [
    {
     "name": "stdout",
     "output_type": "stream",
     "text": [
      "set: 0.4308874999996988\n"
     ]
    }
   ],
   "source": [
    "start = time.perf_counter()\n",
    "member_test(10000000,char_set)\n",
    "end = time.perf_counter()\n",
    "print('set:',end-start)"
   ]
  },
  {
   "cell_type": "code",
   "execution_count": null,
   "id": "5d02313b",
   "metadata": {},
   "outputs": [],
   "source": []
  }
 ],
 "metadata": {
  "kernelspec": {
   "display_name": "Python 3",
   "language": "python",
   "name": "python3"
  },
  "language_info": {
   "codemirror_mode": {
    "name": "ipython",
    "version": 3
   },
   "file_extension": ".py",
   "mimetype": "text/x-python",
   "name": "python",
   "nbconvert_exporter": "python",
   "pygments_lexer": "ipython3",
   "version": "3.8.8"
  }
 },
 "nbformat": 4,
 "nbformat_minor": 5
}

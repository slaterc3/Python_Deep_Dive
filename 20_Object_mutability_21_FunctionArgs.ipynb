{
 "cells": [
  {
   "cell_type": "markdown",
   "id": "f4cbfbef",
   "metadata": {},
   "source": [
    "### objects have type and state\n",
    "* changing the date inside the object is called **modifying the internal state** of the object"
   ]
  },
  {
   "cell_type": "markdown",
   "id": "e993c078",
   "metadata": {},
   "source": [
    "- an object whose internal state may be changed is **mutable**\n",
    "- otherwise the object is **immutable**"
   ]
  },
  {
   "cell_type": "markdown",
   "id": "b1a52621",
   "metadata": {},
   "source": [
    "### immutable\n",
    "- Numbers \n",
    " - int\n",
    " - float\n",
    " - Boolean\n",
    "- strings\n",
    "- tuples (containers)\n",
    "- frozen sets\n",
    "- user-defined classes *"
   ]
  },
  {
   "cell_type": "markdown",
   "id": "342a7107",
   "metadata": {},
   "source": [
    "### mutable\n",
    "- lists\n",
    "- sets\n",
    "- dictionaries\n",
    "- user-defined classes*"
   ]
  },
  {
   "cell_type": "code",
   "execution_count": 1,
   "id": "93731a32",
   "metadata": {},
   "outputs": [],
   "source": [
    "t = (1, 2, 3)"
   ]
  },
  {
   "cell_type": "code",
   "execution_count": 2,
   "id": "0c4634f2",
   "metadata": {},
   "outputs": [],
   "source": [
    "a = [1, 2]\n",
    "b = [3, 4]\n",
    "t = (a, b)"
   ]
  },
  {
   "cell_type": "code",
   "execution_count": 3,
   "id": "ce1d3af2",
   "metadata": {},
   "outputs": [],
   "source": [
    "a.append(3)\n",
    "b.append(5)"
   ]
  },
  {
   "cell_type": "code",
   "execution_count": 4,
   "id": "39f5a9de",
   "metadata": {},
   "outputs": [
    {
     "data": {
      "text/plain": [
       "([1, 2, 3], [3, 4, 5])"
      ]
     },
     "execution_count": 4,
     "metadata": {},
     "output_type": "execute_result"
    }
   ],
   "source": [
    "t"
   ]
  },
  {
   "cell_type": "markdown",
   "id": "9ac38275",
   "metadata": {},
   "source": [
    "- the state of t changed but still immutable\n",
    "- contains mutable elements"
   ]
  },
  {
   "cell_type": "code",
   "execution_count": 5,
   "id": "ee31a9b4",
   "metadata": {},
   "outputs": [],
   "source": [
    "my_lst = [1,2,3]"
   ]
  },
  {
   "cell_type": "code",
   "execution_count": 6,
   "id": "d1810911",
   "metadata": {},
   "outputs": [
    {
     "data": {
      "text/plain": [
       "list"
      ]
     },
     "execution_count": 6,
     "metadata": {},
     "output_type": "execute_result"
    }
   ],
   "source": [
    "type(my_lst)"
   ]
  },
  {
   "cell_type": "code",
   "execution_count": 7,
   "id": "e60c1f5a",
   "metadata": {},
   "outputs": [
    {
     "data": {
      "text/plain": [
       "1824568091136"
      ]
     },
     "execution_count": 7,
     "metadata": {},
     "output_type": "execute_result"
    }
   ],
   "source": [
    "id(my_lst)"
   ]
  },
  {
   "cell_type": "code",
   "execution_count": 8,
   "id": "aed973fa",
   "metadata": {},
   "outputs": [],
   "source": [
    "my_lst.append(4)"
   ]
  },
  {
   "cell_type": "code",
   "execution_count": 9,
   "id": "1f8238c1",
   "metadata": {},
   "outputs": [
    {
     "data": {
      "text/plain": [
       "[1, 2, 3, 4]"
      ]
     },
     "execution_count": 9,
     "metadata": {},
     "output_type": "execute_result"
    }
   ],
   "source": [
    "my_lst"
   ]
  },
  {
   "cell_type": "code",
   "execution_count": 10,
   "id": "afe5e744",
   "metadata": {},
   "outputs": [
    {
     "data": {
      "text/plain": [
       "1824568091136"
      ]
     },
     "execution_count": 10,
     "metadata": {},
     "output_type": "execute_result"
    }
   ],
   "source": [
    "id(my_lst)"
   ]
  },
  {
   "cell_type": "code",
   "execution_count": 11,
   "id": "a0fd3bc7",
   "metadata": {},
   "outputs": [],
   "source": [
    "my_lst1 = [1,2,3]"
   ]
  },
  {
   "cell_type": "code",
   "execution_count": 12,
   "id": "0a2b32eb",
   "metadata": {},
   "outputs": [
    {
     "data": {
      "text/plain": [
       "1824584756352"
      ]
     },
     "execution_count": 12,
     "metadata": {},
     "output_type": "execute_result"
    }
   ],
   "source": [
    "id(my_lst1)"
   ]
  },
  {
   "cell_type": "code",
   "execution_count": 13,
   "id": "c41c61cb",
   "metadata": {},
   "outputs": [],
   "source": [
    "my_lst1 = my_lst1 + [4]"
   ]
  },
  {
   "cell_type": "code",
   "execution_count": 14,
   "id": "6b1dac70",
   "metadata": {},
   "outputs": [
    {
     "data": {
      "text/plain": [
       "[1, 2, 3, 4]"
      ]
     },
     "execution_count": 14,
     "metadata": {},
     "output_type": "execute_result"
    }
   ],
   "source": [
    "my_lst1"
   ]
  },
  {
   "cell_type": "code",
   "execution_count": 15,
   "id": "dedd75f7",
   "metadata": {},
   "outputs": [
    {
     "data": {
      "text/plain": [
       "1824584973312"
      ]
     },
     "execution_count": 15,
     "metadata": {},
     "output_type": "execute_result"
    }
   ],
   "source": [
    "id(my_lst1)"
   ]
  },
  {
   "cell_type": "markdown",
   "id": "0777d7d2",
   "metadata": {},
   "source": [
    "the id address changes, [4] is not appended"
   ]
  },
  {
   "cell_type": "code",
   "execution_count": 19,
   "id": "69ae97d1",
   "metadata": {},
   "outputs": [],
   "source": [
    "my_dict = dict(key1=1,key2='a')"
   ]
  },
  {
   "cell_type": "code",
   "execution_count": 20,
   "id": "f79c2fa4",
   "metadata": {},
   "outputs": [
    {
     "data": {
      "text/plain": [
       "{'key1': 1, 'key2': 'a'}"
      ]
     },
     "execution_count": 20,
     "metadata": {},
     "output_type": "execute_result"
    }
   ],
   "source": [
    "my_dict"
   ]
  },
  {
   "cell_type": "code",
   "execution_count": 21,
   "id": "4a85ae6a",
   "metadata": {},
   "outputs": [],
   "source": [
    "my_dict['key3']= 10.5"
   ]
  },
  {
   "cell_type": "code",
   "execution_count": 22,
   "id": "87f25486",
   "metadata": {},
   "outputs": [
    {
     "data": {
      "text/plain": [
       "{'key1': 1, 'key2': 'a', 'key3': 10.5}"
      ]
     },
     "execution_count": 22,
     "metadata": {},
     "output_type": "execute_result"
    }
   ],
   "source": [
    "my_dict"
   ]
  },
  {
   "cell_type": "code",
   "execution_count": 23,
   "id": "ff18ca5b",
   "metadata": {},
   "outputs": [],
   "source": [
    "t = (1,2,3)"
   ]
  },
  {
   "cell_type": "code",
   "execution_count": 24,
   "id": "5f30ae6a",
   "metadata": {},
   "outputs": [
    {
     "data": {
      "text/plain": [
       "1824585052224"
      ]
     },
     "execution_count": 24,
     "metadata": {},
     "output_type": "execute_result"
    }
   ],
   "source": [
    "id(t)"
   ]
  },
  {
   "cell_type": "code",
   "execution_count": 25,
   "id": "af701778",
   "metadata": {},
   "outputs": [
    {
     "data": {
      "text/plain": [
       "1"
      ]
     },
     "execution_count": 25,
     "metadata": {},
     "output_type": "execute_result"
    }
   ],
   "source": [
    "t[0]"
   ]
  },
  {
   "cell_type": "code",
   "execution_count": 26,
   "id": "aca7aaa0",
   "metadata": {},
   "outputs": [
    {
     "data": {
      "text/plain": [
       "140724327950128"
      ]
     },
     "execution_count": 26,
     "metadata": {},
     "output_type": "execute_result"
    }
   ],
   "source": [
    "id(t[0])"
   ]
  },
  {
   "cell_type": "code",
   "execution_count": 27,
   "id": "32dc055c",
   "metadata": {},
   "outputs": [],
   "source": [
    "t = ([1,2],[3,4])"
   ]
  },
  {
   "cell_type": "code",
   "execution_count": 28,
   "id": "0d607f0c",
   "metadata": {},
   "outputs": [
    {
     "data": {
      "text/plain": [
       "1824597945472"
      ]
     },
     "execution_count": 28,
     "metadata": {},
     "output_type": "execute_result"
    }
   ],
   "source": [
    "id(t)"
   ]
  },
  {
   "cell_type": "code",
   "execution_count": 29,
   "id": "daad05d1",
   "metadata": {},
   "outputs": [],
   "source": [
    "t[0].append(3)"
   ]
  },
  {
   "cell_type": "code",
   "execution_count": 30,
   "id": "5e1cfcf0",
   "metadata": {},
   "outputs": [
    {
     "data": {
      "text/plain": [
       "([1, 2, 3], [3, 4])"
      ]
     },
     "execution_count": 30,
     "metadata": {},
     "output_type": "execute_result"
    }
   ],
   "source": [
    "t"
   ]
  },
  {
   "cell_type": "code",
   "execution_count": 31,
   "id": "4eb3a557",
   "metadata": {},
   "outputs": [
    {
     "data": {
      "text/plain": [
       "1824584755968"
      ]
     },
     "execution_count": 31,
     "metadata": {},
     "output_type": "execute_result"
    }
   ],
   "source": [
    "id(t[0])"
   ]
  },
  {
   "cell_type": "markdown",
   "id": "98b684ce",
   "metadata": {},
   "source": [
    "## 21. function arguments and mutability"
   ]
  },
  {
   "cell_type": "markdown",
   "id": "47adcae0",
   "metadata": {},
   "source": [
    "- strings are immutable"
   ]
  },
  {
   "cell_type": "markdown",
   "id": "989f3624",
   "metadata": {},
   "source": [
    "Immutable objects safe from unintended side-effects"
   ]
  },
  {
   "cell_type": "code",
   "execution_count": 32,
   "id": "76b5a493",
   "metadata": {},
   "outputs": [],
   "source": [
    "def process(lst):\n",
    "    lst.append(100)\n",
    "my_lst = [1,2,3]"
   ]
  },
  {
   "cell_type": "code",
   "execution_count": 33,
   "id": "a1ee6624",
   "metadata": {},
   "outputs": [
    {
     "name": "stdout",
     "output_type": "stream",
     "text": [
      "[1, 2, 3]\n",
      "[1, 2, 3, 100]\n"
     ]
    }
   ],
   "source": [
    "print(my_lst)\n",
    "process(my_lst)\n",
    "print(my_lst)"
   ]
  },
  {
   "cell_type": "code",
   "execution_count": 35,
   "id": "19cf765e",
   "metadata": {},
   "outputs": [],
   "source": [
    "def process(s):\n",
    "    print(f'init s # = {id(s)}')\n",
    "    s = s + ', world'\n",
    "    print(f'final s # = {id(s)}')"
   ]
  },
  {
   "cell_type": "code",
   "execution_count": 36,
   "id": "57352fda",
   "metadata": {},
   "outputs": [
    {
     "name": "stdout",
     "output_type": "stream",
     "text": [
      "my_str # = 1824585199536\n"
     ]
    }
   ],
   "source": [
    "my_str = 'hello'\n",
    "print('my_str # =',id(my_str))"
   ]
  },
  {
   "cell_type": "code",
   "execution_count": 37,
   "id": "47915975",
   "metadata": {},
   "outputs": [
    {
     "name": "stdout",
     "output_type": "stream",
     "text": [
      "init s # = 1824585199536\n",
      "final s # = 1824585270448\n"
     ]
    }
   ],
   "source": [
    "process(my_str)"
   ]
  },
  {
   "cell_type": "code",
   "execution_count": 38,
   "id": "268971b2",
   "metadata": {},
   "outputs": [
    {
     "data": {
      "text/plain": [
       "1824585199536"
      ]
     },
     "execution_count": 38,
     "metadata": {},
     "output_type": "execute_result"
    }
   ],
   "source": [
    "id(my_str)"
   ]
  },
  {
   "cell_type": "code",
   "execution_count": 39,
   "id": "d07bf6ee",
   "metadata": {},
   "outputs": [],
   "source": [
    "def mod_lst(lst):\n",
    "    print(f'init s # = {id(lst)}')\n",
    "    lst.append(100)\n",
    "    print(f'final s # = {id(lst)}')"
   ]
  },
  {
   "cell_type": "code",
   "execution_count": 40,
   "id": "34e4d0f7",
   "metadata": {},
   "outputs": [
    {
     "data": {
      "text/plain": [
       "1824584736896"
      ]
     },
     "execution_count": 40,
     "metadata": {},
     "output_type": "execute_result"
    }
   ],
   "source": [
    "lst = [1,2,3]\n",
    "id(lst)"
   ]
  },
  {
   "cell_type": "code",
   "execution_count": 41,
   "id": "9cba3551",
   "metadata": {},
   "outputs": [
    {
     "name": "stdout",
     "output_type": "stream",
     "text": [
      "init s # = 1824584736896\n",
      "final s # = 1824584736896\n"
     ]
    }
   ],
   "source": [
    "mod_lst(lst)"
   ]
  },
  {
   "cell_type": "code",
   "execution_count": 42,
   "id": "f602eeb8",
   "metadata": {},
   "outputs": [
    {
     "data": {
      "text/plain": [
       "1824584736896"
      ]
     },
     "execution_count": 42,
     "metadata": {},
     "output_type": "execute_result"
    }
   ],
   "source": [
    "id(lst)"
   ]
  },
  {
   "cell_type": "code",
   "execution_count": 43,
   "id": "58884995",
   "metadata": {},
   "outputs": [
    {
     "name": "stdout",
     "output_type": "stream",
     "text": [
      "[1, 2, 3, 100]\n"
     ]
    }
   ],
   "source": [
    "print(lst)"
   ]
  },
  {
   "cell_type": "code",
   "execution_count": 44,
   "id": "ceb0209d",
   "metadata": {},
   "outputs": [],
   "source": [
    "def mod_tup(t):\n",
    "    print(f'init s # = {id(t)}')\n",
    "    t[0].append(100)\n",
    "    print(f'final s # = {id(t)}')"
   ]
  },
  {
   "cell_type": "code",
   "execution_count": 45,
   "id": "a999096c",
   "metadata": {},
   "outputs": [],
   "source": [
    "tup = ([1,2],'a')"
   ]
  },
  {
   "cell_type": "code",
   "execution_count": 46,
   "id": "bb3102f7",
   "metadata": {},
   "outputs": [
    {
     "name": "stdout",
     "output_type": "stream",
     "text": [
      "init s # = 1824597955712\n",
      "final s # = 1824597955712\n"
     ]
    }
   ],
   "source": [
    "mod_tup(tup)"
   ]
  },
  {
   "cell_type": "code",
   "execution_count": 47,
   "id": "09616c92",
   "metadata": {},
   "outputs": [
    {
     "data": {
      "text/plain": [
       "([1, 2, 100], 'a')"
      ]
     },
     "execution_count": 47,
     "metadata": {},
     "output_type": "execute_result"
    }
   ],
   "source": [
    "tup"
   ]
  },
  {
   "cell_type": "code",
   "execution_count": 48,
   "id": "97a5de6f",
   "metadata": {},
   "outputs": [
    {
     "data": {
      "text/plain": [
       "1824597955712"
      ]
     },
     "execution_count": 48,
     "metadata": {},
     "output_type": "execute_result"
    }
   ],
   "source": [
    "id(tup)"
   ]
  },
  {
   "cell_type": "markdown",
   "id": "0a60b65d",
   "metadata": {},
   "source": [
    "## Shared reference"
   ]
  },
  {
   "cell_type": "code",
   "execution_count": 49,
   "id": "363a8926",
   "metadata": {},
   "outputs": [],
   "source": [
    "a = 10\n",
    "b = a"
   ]
  },
  {
   "cell_type": "code",
   "execution_count": 50,
   "id": "10c968ea",
   "metadata": {},
   "outputs": [
    {
     "data": {
      "text/plain": [
       "True"
      ]
     },
     "execution_count": 50,
     "metadata": {},
     "output_type": "execute_result"
    }
   ],
   "source": [
    "id(a) == id(b)"
   ]
  },
  {
   "cell_type": "code",
   "execution_count": 51,
   "id": "26a9ade1",
   "metadata": {},
   "outputs": [],
   "source": [
    "c = 8\n",
    "d = 8"
   ]
  },
  {
   "cell_type": "code",
   "execution_count": 52,
   "id": "3bb39457",
   "metadata": {},
   "outputs": [
    {
     "data": {
      "text/plain": [
       "True"
      ]
     },
     "execution_count": 52,
     "metadata": {},
     "output_type": "execute_result"
    }
   ],
   "source": [
    "id(c) == id(d)"
   ]
  },
  {
   "cell_type": "code",
   "execution_count": 53,
   "id": "aed4d776",
   "metadata": {},
   "outputs": [],
   "source": [
    "d += 1"
   ]
  },
  {
   "cell_type": "code",
   "execution_count": 54,
   "id": "a3ccc47d",
   "metadata": {},
   "outputs": [
    {
     "data": {
      "text/plain": [
       "False"
      ]
     },
     "execution_count": 54,
     "metadata": {},
     "output_type": "execute_result"
    }
   ],
   "source": [
    "id(c) == id(d)"
   ]
  },
  {
   "cell_type": "code",
   "execution_count": 55,
   "id": "a28c6a46",
   "metadata": {},
   "outputs": [],
   "source": [
    "a = [1,2,3]\n",
    "b = a"
   ]
  },
  {
   "cell_type": "code",
   "execution_count": 56,
   "id": "07c39dee",
   "metadata": {},
   "outputs": [],
   "source": [
    "b.append(100)"
   ]
  },
  {
   "cell_type": "code",
   "execution_count": 57,
   "id": "e2b3c879",
   "metadata": {},
   "outputs": [
    {
     "data": {
      "text/plain": [
       "[1, 2, 3, 100]"
      ]
     },
     "execution_count": 57,
     "metadata": {},
     "output_type": "execute_result"
    }
   ],
   "source": [
    "a"
   ]
  },
  {
   "cell_type": "code",
   "execution_count": 58,
   "id": "7badb72c",
   "metadata": {},
   "outputs": [
    {
     "data": {
      "text/plain": [
       "True"
      ]
     },
     "execution_count": 58,
     "metadata": {},
     "output_type": "execute_result"
    }
   ],
   "source": [
    "id(a) == id(b)"
   ]
  },
  {
   "cell_type": "code",
   "execution_count": 59,
   "id": "bffb6253",
   "metadata": {},
   "outputs": [],
   "source": [
    "a = [1,2,3]\n",
    "b = [1,2,3]"
   ]
  },
  {
   "cell_type": "code",
   "execution_count": 60,
   "id": "a697a64a",
   "metadata": {},
   "outputs": [
    {
     "data": {
      "text/plain": [
       "False"
      ]
     },
     "execution_count": 60,
     "metadata": {},
     "output_type": "execute_result"
    }
   ],
   "source": [
    "id(a) == id(b)"
   ]
  },
  {
   "cell_type": "code",
   "execution_count": 62,
   "id": "0a27faf4",
   "metadata": {},
   "outputs": [],
   "source": [
    "a = 'hello'"
   ]
  },
  {
   "cell_type": "code",
   "execution_count": 63,
   "id": "552d3736",
   "metadata": {},
   "outputs": [
    {
     "data": {
      "text/plain": [
       "'0x1a8d1c0afb0'"
      ]
     },
     "execution_count": 63,
     "metadata": {},
     "output_type": "execute_result"
    }
   ],
   "source": [
    "b = a\n",
    "hex(id(a))"
   ]
  },
  {
   "cell_type": "code",
   "execution_count": 64,
   "id": "52f8d6e3",
   "metadata": {},
   "outputs": [
    {
     "data": {
      "text/plain": [
       "'0x1a8d1c0afb0'"
      ]
     },
     "execution_count": 64,
     "metadata": {},
     "output_type": "execute_result"
    }
   ],
   "source": [
    "hex(id(b))"
   ]
  },
  {
   "cell_type": "code",
   "execution_count": 65,
   "id": "19a60244",
   "metadata": {},
   "outputs": [
    {
     "data": {
      "text/plain": [
       "'hello'"
      ]
     },
     "execution_count": 65,
     "metadata": {},
     "output_type": "execute_result"
    }
   ],
   "source": [
    "b"
   ]
  },
  {
   "cell_type": "code",
   "execution_count": 66,
   "id": "9e49d425",
   "metadata": {},
   "outputs": [],
   "source": [
    "b = 'hello world'"
   ]
  },
  {
   "cell_type": "code",
   "execution_count": 67,
   "id": "417f5177",
   "metadata": {},
   "outputs": [
    {
     "data": {
      "text/plain": [
       "'0x1a8d1c4a4f0'"
      ]
     },
     "execution_count": 67,
     "metadata": {},
     "output_type": "execute_result"
    }
   ],
   "source": [
    "hex(id(b))"
   ]
  },
  {
   "cell_type": "code",
   "execution_count": 68,
   "id": "136ed4c4",
   "metadata": {},
   "outputs": [],
   "source": [
    "a = [1,2,3]\n",
    "b = a"
   ]
  },
  {
   "cell_type": "code",
   "execution_count": 69,
   "id": "5e5c4469",
   "metadata": {},
   "outputs": [
    {
     "data": {
      "text/plain": [
       "True"
      ]
     },
     "execution_count": 69,
     "metadata": {},
     "output_type": "execute_result"
    }
   ],
   "source": [
    "id(a) == id(b)"
   ]
  },
  {
   "cell_type": "code",
   "execution_count": 70,
   "id": "b7785e53",
   "metadata": {},
   "outputs": [],
   "source": [
    "b.append(1000)"
   ]
  },
  {
   "cell_type": "code",
   "execution_count": 71,
   "id": "96fa00db",
   "metadata": {},
   "outputs": [
    {
     "data": {
      "text/plain": [
       "[1, 2, 3, 1000]"
      ]
     },
     "execution_count": 71,
     "metadata": {},
     "output_type": "execute_result"
    }
   ],
   "source": [
    "a"
   ]
  },
  {
   "cell_type": "code",
   "execution_count": null,
   "id": "64d7ff2a",
   "metadata": {},
   "outputs": [],
   "source": []
  }
 ],
 "metadata": {
  "kernelspec": {
   "display_name": "Python 3",
   "language": "python",
   "name": "python3"
  },
  "language_info": {
   "codemirror_mode": {
    "name": "ipython",
    "version": 3
   },
   "file_extension": ".py",
   "mimetype": "text/x-python",
   "name": "python",
   "nbconvert_exporter": "python",
   "pygments_lexer": "ipython3",
   "version": "3.8.8"
  }
 },
 "nbformat": 4,
 "nbformat_minor": 5
}

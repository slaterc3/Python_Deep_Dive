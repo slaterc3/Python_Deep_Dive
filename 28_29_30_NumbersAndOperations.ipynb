{
 "cells": [
  {
   "cell_type": "markdown",
   "id": "a0662239",
   "metadata": {},
   "source": [
    "$\\texttt{Integer Numbers }(\\mathbb{R}): 0,1,2,3,... \\texttt{int}\\\\\n",
    "\\texttt{Rational Numbers } (\\mathbb{Q}): \\displaystyle\\left\\{\\frac{p}{q}{ }\\middle |{ } \\in\\mathbb{Z},q\\neq{0}\\right\\} \\texttt{fractions.Fraction}\\\\\n",
    "\\texttt{Real Numbers }(\\mathbb{R}): 0,-1,0.125,\\frac{1}{3},\\pi,... \\texttt{float, decimal.Decimal} \\\\\n",
    "\\texttt{Complex Numbers }(\\mathbb{C}): \\left\\{a+bi\\middle|a,b\\in\\mathbb{R}\\right\\} \\texttt{complex} \\\\ \n",
    "\\mathbb{Z}\\subset\\mathbb{Q}\\subset\\mathbb{R}\\subset\\mathbb{C} \\\\\n",
    "\\texttt{Boolean truth values } 0 (\\text{False}), 1 (\\text{True}) \\texttt{bool}$"
   ]
  },
  {
   "cell_type": "markdown",
   "id": "d35a2d31",
   "metadata": {},
   "source": [
    "## Integers\n",
    "int data type\n",
    "- how big (pos or neg)?\n",
    "- integers represented in base-2\n",
    "\n",
    "    $(10011)_2 = (19)_{10}$\n",
    "    \n",
    "    "
   ]
  },
  {
   "cell_type": "markdown",
   "id": "51ae3e3c",
   "metadata": {},
   "source": [
    "### Operations\n",
    "- division always returns a float\n",
    "- long division (155 = 4 * (155 // 4) + (155 % 4))\n",
    "- // => floor\n",
    "- % => modulus\n",
    "- floor division\n",
    "  - floor of real number a is the largest integer <= a\n",
    "  - floor(-3.1) => -4\n",
    "  - floor is not the same as truncation\n",
    "  - a // b = floor(a / b)\n",
    "  - different for negatives\n",
    "    - -135 // 4 -> -34\n",
    "    - 135 // 4 -> 33"
   ]
  },
  {
   "cell_type": "code",
   "execution_count": 35,
   "id": "a5472a7b",
   "metadata": {},
   "outputs": [
    {
     "data": {
      "text/plain": [
       "3"
      ]
     },
     "execution_count": 35,
     "metadata": {},
     "output_type": "execute_result"
    }
   ],
   "source": [
    "135 % 4 "
   ]
  },
  {
   "cell_type": "code",
   "execution_count": 36,
   "id": "fc03e6c8",
   "metadata": {},
   "outputs": [
    {
     "data": {
      "text/plain": [
       "1"
      ]
     },
     "execution_count": 36,
     "metadata": {},
     "output_type": "execute_result"
    }
   ],
   "source": [
    "-135 % 4"
   ]
  },
  {
   "cell_type": "code",
   "execution_count": 37,
   "id": "e2a23727",
   "metadata": {},
   "outputs": [
    {
     "data": {
      "text/plain": [
       "33"
      ]
     },
     "execution_count": 37,
     "metadata": {},
     "output_type": "execute_result"
    }
   ],
   "source": [
    "135 // 4"
   ]
  },
  {
   "cell_type": "code",
   "execution_count": 38,
   "id": "af4083fd",
   "metadata": {},
   "outputs": [
    {
     "data": {
      "text/plain": [
       "-34"
      ]
     },
     "execution_count": 38,
     "metadata": {},
     "output_type": "execute_result"
    }
   ],
   "source": [
    "-135 // 4"
   ]
  },
  {
   "cell_type": "code",
   "execution_count": 39,
   "id": "335c7808",
   "metadata": {},
   "outputs": [
    {
     "data": {
      "text/plain": [
       "int"
      ]
     },
     "execution_count": 39,
     "metadata": {},
     "output_type": "execute_result"
    }
   ],
   "source": [
    "type(1 + 1)"
   ]
  },
  {
   "cell_type": "code",
   "execution_count": 40,
   "id": "fc152f5e",
   "metadata": {},
   "outputs": [
    {
     "data": {
      "text/plain": [
       "int"
      ]
     },
     "execution_count": 40,
     "metadata": {},
     "output_type": "execute_result"
    }
   ],
   "source": [
    "type(2*3)"
   ]
  },
  {
   "cell_type": "code",
   "execution_count": 41,
   "id": "8fe4b105",
   "metadata": {},
   "outputs": [
    {
     "data": {
      "text/plain": [
       "int"
      ]
     },
     "execution_count": 41,
     "metadata": {},
     "output_type": "execute_result"
    }
   ],
   "source": [
    "type(4-10)"
   ]
  },
  {
   "cell_type": "code",
   "execution_count": 42,
   "id": "5d50b75b",
   "metadata": {},
   "outputs": [
    {
     "data": {
      "text/plain": [
       "int"
      ]
     },
     "execution_count": 42,
     "metadata": {},
     "output_type": "execute_result"
    }
   ],
   "source": [
    "type(3**6)"
   ]
  },
  {
   "cell_type": "code",
   "execution_count": 43,
   "id": "e828a15f",
   "metadata": {},
   "outputs": [
    {
     "data": {
      "text/plain": [
       "float"
      ]
     },
     "execution_count": 43,
     "metadata": {},
     "output_type": "execute_result"
    }
   ],
   "source": [
    "type(2/3)"
   ]
  },
  {
   "cell_type": "code",
   "execution_count": 44,
   "id": "032c0571",
   "metadata": {},
   "outputs": [
    {
     "data": {
      "text/plain": [
       "float"
      ]
     },
     "execution_count": 44,
     "metadata": {},
     "output_type": "execute_result"
    }
   ],
   "source": [
    "type(10/2)"
   ]
  },
  {
   "cell_type": "code",
   "execution_count": 45,
   "id": "df8ba270",
   "metadata": {},
   "outputs": [
    {
     "data": {
      "text/plain": [
       "5.0"
      ]
     },
     "execution_count": 45,
     "metadata": {},
     "output_type": "execute_result"
    }
   ],
   "source": [
    "10/2"
   ]
  },
  {
   "cell_type": "code",
   "execution_count": 46,
   "id": "1e1b9ce8",
   "metadata": {},
   "outputs": [
    {
     "name": "stdout",
     "output_type": "stream",
     "text": [
      "5.0\n"
     ]
    }
   ],
   "source": [
    "print(10/2)"
   ]
  },
  {
   "cell_type": "code",
   "execution_count": 47,
   "id": "de71c3c6",
   "metadata": {},
   "outputs": [
    {
     "name": "stdout",
     "output_type": "stream",
     "text": [
      "5\n"
     ]
    }
   ],
   "source": [
    "print(int(10/2))"
   ]
  },
  {
   "cell_type": "code",
   "execution_count": 48,
   "id": "69dbb79f",
   "metadata": {},
   "outputs": [],
   "source": [
    "import math"
   ]
  },
  {
   "cell_type": "code",
   "execution_count": 49,
   "id": "f682cb9b",
   "metadata": {},
   "outputs": [
    {
     "data": {
      "text/plain": [
       "3"
      ]
     },
     "execution_count": 49,
     "metadata": {},
     "output_type": "execute_result"
    }
   ],
   "source": [
    "math.floor(3.155555)"
   ]
  },
  {
   "cell_type": "code",
   "execution_count": 50,
   "id": "be4fb70c",
   "metadata": {},
   "outputs": [
    {
     "data": {
      "text/plain": [
       "-4"
      ]
     },
     "execution_count": 50,
     "metadata": {},
     "output_type": "execute_result"
    }
   ],
   "source": [
    "math.floor(-3.1122222)"
   ]
  },
  {
   "cell_type": "code",
   "execution_count": 51,
   "id": "a3e9a28a",
   "metadata": {},
   "outputs": [
    {
     "data": {
      "text/plain": [
       "-4"
      ]
     },
     "execution_count": 51,
     "metadata": {},
     "output_type": "execute_result"
    }
   ],
   "source": [
    "math.floor(-3.0000001)"
   ]
  },
  {
   "cell_type": "code",
   "execution_count": 55,
   "id": "e08c543c",
   "metadata": {},
   "outputs": [
    {
     "data": {
      "text/plain": [
       "-3"
      ]
     },
     "execution_count": 55,
     "metadata": {},
     "output_type": "execute_result"
    }
   ],
   "source": [
    "# be aware of limited precision\n",
    "math.floor(-3.0000000000000001)"
   ]
  },
  {
   "cell_type": "code",
   "execution_count": 56,
   "id": "c44181b2",
   "metadata": {},
   "outputs": [
    {
     "name": "stdout",
     "output_type": "stream",
     "text": [
      "2.0625\n",
      "2\n",
      "2\n"
     ]
    }
   ],
   "source": [
    "a = 33\n",
    "b = 16\n",
    "print(a/b)\n",
    "print(a//b)\n",
    "print(math.floor(a/b))"
   ]
  },
  {
   "cell_type": "code",
   "execution_count": 57,
   "id": "11bb42ba",
   "metadata": {},
   "outputs": [
    {
     "name": "stdout",
     "output_type": "stream",
     "text": [
      "-2.0625\n",
      "-3\n",
      "-3\n"
     ]
    }
   ],
   "source": [
    "a = -33\n",
    "b = 16\n",
    "print(a/b)\n",
    "print(a//b)\n",
    "print(math.floor(a/b))"
   ]
  },
  {
   "cell_type": "code",
   "execution_count": 58,
   "id": "7176b882",
   "metadata": {},
   "outputs": [
    {
     "name": "stdout",
     "output_type": "stream",
     "text": [
      "-2\n"
     ]
    }
   ],
   "source": [
    "print(math.trunc(a/b))"
   ]
  },
  {
   "cell_type": "markdown",
   "id": "1723864e",
   "metadata": {},
   "source": [
    "```python\n",
    "a = b * (a//b) + (a%b)\n",
    "```"
   ]
  },
  {
   "cell_type": "code",
   "execution_count": 62,
   "id": "576948b6",
   "metadata": {},
   "outputs": [
    {
     "name": "stdout",
     "output_type": "stream",
     "text": [
      "13/4 = 3.25\n",
      "13//4 = 3.25\n",
      "13%4 = 1\n"
     ]
    }
   ],
   "source": [
    "a = 13\n",
    "b = 4\n",
    "print(f'{a}/{b} = {a/b}')\n",
    "print(f'{a}//{b} = {a/b}')\n",
    "print(f'{a}%{b} = {a%b}')"
   ]
  },
  {
   "cell_type": "code",
   "execution_count": 64,
   "id": "abf69efe",
   "metadata": {},
   "outputs": [
    {
     "data": {
      "text/plain": [
       "True"
      ]
     },
     "execution_count": 64,
     "metadata": {},
     "output_type": "execute_result"
    }
   ],
   "source": [
    "a == b * (a//b) + (a%b)"
   ]
  },
  {
   "cell_type": "code",
   "execution_count": 65,
   "id": "9eed90f5",
   "metadata": {},
   "outputs": [
    {
     "name": "stdout",
     "output_type": "stream",
     "text": [
      "-13/4 = -3.25\n",
      "-13//4 = -3.25\n",
      "-13%4 = 3\n"
     ]
    }
   ],
   "source": [
    "a = -13\n",
    "b = 4\n",
    "print(f'{a}/{b} = {a/b}')\n",
    "print(f'{a}//{b} = {a/b}')\n",
    "print(f'{a}%{b} = {a%b}')"
   ]
  },
  {
   "cell_type": "code",
   "execution_count": 66,
   "id": "93f6231c",
   "metadata": {},
   "outputs": [
    {
     "data": {
      "text/plain": [
       "True"
      ]
     },
     "execution_count": 66,
     "metadata": {},
     "output_type": "execute_result"
    }
   ],
   "source": [
    "a == b * (a//b) + (a%b)"
   ]
  },
  {
   "cell_type": "code",
   "execution_count": 67,
   "id": "c6b1021c",
   "metadata": {},
   "outputs": [
    {
     "name": "stdout",
     "output_type": "stream",
     "text": [
      "-13/-4 = 3.25\n",
      "-13//-4 = 3.25\n",
      "-13%-4 = -1\n"
     ]
    },
    {
     "data": {
      "text/plain": [
       "True"
      ]
     },
     "execution_count": 67,
     "metadata": {},
     "output_type": "execute_result"
    }
   ],
   "source": [
    "a = -13\n",
    "b = -4\n",
    "print(f'{a}/{b} = {a/b}')\n",
    "print(f'{a}//{b} = {a/b}')\n",
    "print(f'{a}%{b} = {a%b}')\n",
    "a == b * (a//b) + (a%b)"
   ]
  },
  {
   "cell_type": "code",
   "execution_count": null,
   "id": "05ca196a",
   "metadata": {},
   "outputs": [],
   "source": []
  }
 ],
 "metadata": {
  "kernelspec": {
   "display_name": "Python 3",
   "language": "python",
   "name": "python3"
  },
  "language_info": {
   "codemirror_mode": {
    "name": "ipython",
    "version": 3
   },
   "file_extension": ".py",
   "mimetype": "text/x-python",
   "name": "python",
   "nbconvert_exporter": "python",
   "pygments_lexer": "ipython3",
   "version": "3.8.8"
  }
 },
 "nbformat": 4,
 "nbformat_minor": 5
}

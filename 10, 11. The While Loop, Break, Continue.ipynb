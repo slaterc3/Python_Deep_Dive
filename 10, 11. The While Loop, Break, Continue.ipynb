{
 "cells": [
  {
   "cell_type": "code",
   "execution_count": 1,
   "id": "dc3a1f0d",
   "metadata": {},
   "outputs": [
    {
     "name": "stdout",
     "output_type": "stream",
     "text": [
      "0\n",
      "1\n",
      "2\n",
      "3\n",
      "4\n"
     ]
    }
   ],
   "source": [
    "i = 0\n",
    "# code inside only runs if condition True\n",
    "while i < 5:\n",
    "    print(i)\n",
    "    i += 1"
   ]
  },
  {
   "cell_type": "code",
   "execution_count": 3,
   "id": "bbc1ef5b",
   "metadata": {},
   "outputs": [
    {
     "name": "stdout",
     "output_type": "stream",
     "text": [
      "5\n"
     ]
    }
   ],
   "source": [
    "#do while loop emulation:\n",
    "i = 5\n",
    "while True:\n",
    "    print(i)\n",
    "    if i >= 5:\n",
    "        break\n",
    "        print('something')"
   ]
  },
  {
   "cell_type": "code",
   "execution_count": 6,
   "id": "52ea7b2a",
   "metadata": {},
   "outputs": [
    {
     "name": "stdout",
     "output_type": "stream",
     "text": [
      "enter name:\n",
      "johnny football\n",
      "enter name:\n",
      "johnnyFootball\n",
      "Hello, johnnyFootball\n"
     ]
    }
   ],
   "source": [
    "min_length = 2\n",
    "name = input('enter name:\\n')\n",
    "while not (len(name)>= min_length and name.isprintable() \\\n",
    "          and name.isalpha()):\n",
    "    name = input('enter name:\\n')\n",
    "print(\"Hello, {0}\".format(name))"
   ]
  },
  {
   "cell_type": "code",
   "execution_count": 8,
   "id": "b36406ad",
   "metadata": {},
   "outputs": [
    {
     "name": "stdout",
     "output_type": "stream",
     "text": [
      "enter name:\n",
      "3\n",
      "enter name:\n",
      " \n",
      "enter name:\n",
      "job4\n",
      "enter name:\n",
      "joe\n",
      "Hello, joe\n"
     ]
    }
   ],
   "source": [
    "min_length = 2\n",
    "\n",
    "while True:\n",
    "    name = input('enter name:\\n')\n",
    "    if(len(name)>= min_length and name.isprintable() \\\n",
    "          and name.isalpha()):\n",
    "        break\n",
    "        name = input('enter name:\\n')\n",
    "print(\"Hello, {0}\".format(name))"
   ]
  },
  {
   "cell_type": "markdown",
   "id": "d50afd04",
   "metadata": {},
   "source": [
    "## continue\n"
   ]
  },
  {
   "cell_type": "code",
   "execution_count": 9,
   "id": "114bda8d",
   "metadata": {},
   "outputs": [
    {
     "name": "stdout",
     "output_type": "stream",
     "text": [
      "1\n",
      "3\n",
      "5\n",
      "7\n",
      "9\n"
     ]
    }
   ],
   "source": [
    "a = 0 \n",
    "while a < 10:\n",
    "    a += 1\n",
    "    if a % 2 == 0:\n",
    "        continue\n",
    "        \n",
    "    print(a)"
   ]
  },
  {
   "cell_type": "markdown",
   "id": "c435222c",
   "metadata": {},
   "source": [
    "### while loop with else\n",
    "\n",
    "- first without else\n",
    "- using flag"
   ]
  },
  {
   "cell_type": "code",
   "execution_count": 10,
   "id": "617f21c0",
   "metadata": {},
   "outputs": [
    {
     "name": "stdout",
     "output_type": "stream",
     "text": [
      "[1, 2, 3, 10]\n"
     ]
    }
   ],
   "source": [
    "l = [1, 2, 3]\n",
    "val = 10\n",
    "#flag\n",
    "found = False\n",
    "idx = 0 \n",
    "while idx < len(l):\n",
    "    if l[idx] == val:\n",
    "        found = True\n",
    "        break\n",
    "    idx += 1\n",
    "    \n",
    "if not found:\n",
    "    l.append(val)\n",
    "\n",
    "print(l)"
   ]
  },
  {
   "cell_type": "markdown",
   "id": "a3b98ebb",
   "metadata": {},
   "source": [
    "- now without flag"
   ]
  },
  {
   "cell_type": "code",
   "execution_count": 11,
   "id": "6e3afa65",
   "metadata": {},
   "outputs": [
    {
     "name": "stdout",
     "output_type": "stream",
     "text": [
      "[1, 2, 3, 10]\n"
     ]
    }
   ],
   "source": [
    "l = [1, 2, 3]\n",
    "val = 10\n",
    "idx = 0\n",
    "while idx < len(l):\n",
    "    if l[idx] == val:\n",
    "        break\n",
    "    idx += 1\n",
    "else:\n",
    "    l.append(val)\n",
    "    \n",
    "print(l)"
   ]
  },
  {
   "cell_type": "markdown",
   "id": "5a90751e",
   "metadata": {},
   "source": [
    "### try...except...finally"
   ]
  },
  {
   "cell_type": "code",
   "execution_count": 13,
   "id": "e74f3b12",
   "metadata": {},
   "outputs": [
    {
     "name": "stdout",
     "output_type": "stream",
     "text": [
      "div by 0\n",
      "this always runs\n"
     ]
    }
   ],
   "source": [
    "a = 10\n",
    "b = 0\n",
    "try:\n",
    "    a/b\n",
    "except ZeroDivisionError:\n",
    "    print('div by 0')\n",
    "finally:\n",
    "    print('this always runs')"
   ]
  },
  {
   "cell_type": "code",
   "execution_count": 16,
   "id": "c9faeaa5",
   "metadata": {},
   "outputs": [
    {
     "name": "stdout",
     "output_type": "stream",
     "text": [
      "-----------------------------------\n",
      "1, 1 - always runs\n",
      "1, 1 - main loop\n",
      "-----------------------------------\n",
      "2, 0 - div by 0\n",
      "2, 0 - always runs\n",
      "-----------------------------------\n",
      "3, -1 - always runs\n",
      "3, -1 - main loop\n",
      "-----------------------------------\n",
      "4, -2 - always runs\n",
      "4, -2 - main loop\n"
     ]
    }
   ],
   "source": [
    "a = 0\n",
    "b = 2\n",
    "while a < 4:\n",
    "    print('-'*35)\n",
    "    a += 1\n",
    "    b -= 1\n",
    "    \n",
    "    try: \n",
    "        a / b\n",
    "    except ZeroDivisionError:\n",
    "        print(\"{0}, {1} - div by 0\".format(a,b))\n",
    "        continue\n",
    "    finally:\n",
    "        print(\"{0}, {1} - always runs\".format(a, b))\n",
    "    print(\"{0}, {1} - main loop\".format(a, b))"
   ]
  },
  {
   "cell_type": "code",
   "execution_count": 17,
   "id": "b13cf5f9",
   "metadata": {},
   "outputs": [
    {
     "name": "stdout",
     "output_type": "stream",
     "text": [
      "-----------------------------------\n",
      "1, 1 - always runs\n",
      "1, 1 - main loop\n",
      "-----------------------------------\n",
      "2, 0 - div by 0\n",
      "2, 0 - always runs\n"
     ]
    }
   ],
   "source": [
    "a = 0\n",
    "b = 2\n",
    "while a < 4:\n",
    "    print('-'*35)\n",
    "    a += 1\n",
    "    b -= 1\n",
    "    \n",
    "    try: \n",
    "        a / b\n",
    "    except ZeroDivisionError:\n",
    "        print(\"{0}, {1} - div by 0\".format(a,b))\n",
    "        break\n",
    "    finally:\n",
    "        print(\"{0}, {1} - always runs\".format(a, b))\n",
    "    print(\"{0}, {1} - main loop\".format(a, b))"
   ]
  },
  {
   "cell_type": "code",
   "execution_count": 18,
   "id": "c0d2f5b3",
   "metadata": {},
   "outputs": [
    {
     "name": "stdout",
     "output_type": "stream",
     "text": [
      "-----------------------------------\n",
      "1, 9 - always runs\n",
      "1, 9 - main loop\n",
      "-----------------------------------\n",
      "2, 8 - always runs\n",
      "2, 8 - main loop\n",
      "-----------------------------------\n",
      "3, 7 - always runs\n",
      "3, 7 - main loop\n",
      "-----------------------------------\n",
      "4, 6 - always runs\n",
      "4, 6 - main loop\n",
      "code ran w/o zero div error\n"
     ]
    }
   ],
   "source": [
    "a = 0\n",
    "b = 10\n",
    "while a < 4:\n",
    "    print('-'*35)\n",
    "    a += 1\n",
    "    b -= 1\n",
    "    \n",
    "    try: \n",
    "        a / b\n",
    "    except ZeroDivisionError:\n",
    "        print(\"{0}, {1} - div by 0\".format(a,b))\n",
    "        continue\n",
    "    finally:\n",
    "        print(\"{0}, {1} - always runs\".format(a, b))\n",
    "    print(\"{0}, {1} - main loop\".format(a, b))\n",
    "else:\n",
    "    print(\"code ran w/o zero div error\")"
   ]
  },
  {
   "cell_type": "code",
   "execution_count": null,
   "id": "7e43d16c",
   "metadata": {},
   "outputs": [],
   "source": []
  }
 ],
 "metadata": {
  "kernelspec": {
   "display_name": "Python 3",
   "language": "python",
   "name": "python3"
  },
  "language_info": {
   "codemirror_mode": {
    "name": "ipython",
    "version": 3
   },
   "file_extension": ".py",
   "mimetype": "text/x-python",
   "name": "python",
   "nbconvert_exporter": "python",
   "pygments_lexer": "ipython3",
   "version": "3.8.8"
  }
 },
 "nbformat": 4,
 "nbformat_minor": 5
}
